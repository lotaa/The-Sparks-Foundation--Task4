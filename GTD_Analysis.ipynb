{
 "cells": [
  {
   "cell_type": "markdown",
   "id": "e7d53322",
   "metadata": {},
   "source": [
    "## Author: Omnia Hosny \n",
    "   ## Internship :The Sparks Foundation "
   ]
  },
  {
   "cell_type": "markdown",
   "id": "c1dcebc1",
   "metadata": {},
   "source": [
    "# **EXPLORATORTY DATA ANLYSIS: TERRORISM**\n",
    "- Perform EAD on dataset 'Global_Terrorism'\n",
    "- As a security defense analyst, Try to find out the hot zone of terrorism.\n",
    "# **THE GOAL**:  What all Security issues and insights you can derive by EDA.\n",
    "* High level understanding of data (look at columns, nulls, shape, etc)\n",
    "\n",
    "\n"
   ]
  },
  {
   "cell_type": "markdown",
   "id": "f1f3c025",
   "metadata": {},
   "source": [
    "# The questions will be answer.\n",
    "* 1- What is the top contries affected?\n",
    "* 2- What is total attackes?\n",
    "* 3- What is the total attackes in each year?\n",
    "* 4- How many attacks lasted more than 24?\n",
    "* 5- How many attack is suicide?\n",
    "* 6- How many attack is successful?\n",
    "* 7- What What is the total attackes in each city?\n",
    "* 8- What is most method of attack and broad class of tactics used?\n",
    "* 9- How many victims of the attack?\n",
    "* 10- What is the country with the most casualties?\n",
    "* 11- What is a most Target of attacks?\n",
    "* 12- What is the most Weapon Used in attacks?"
   ]
  },
  {
   "cell_type": "code",
   "execution_count": 16,
   "id": "3ee3d38c",
   "metadata": {},
   "outputs": [],
   "source": [
    "# Importing all libraries required in this notebook\n",
    "import pandas as pd\n",
    "import numpy as np\n",
    "import matplotlib.pyplot as plt  \n",
    "import seaborn as sns"
   ]
  },
  {
   "cell_type": "code",
   "execution_count": 17,
   "id": "f74cb7da",
   "metadata": {},
   "outputs": [
    {
     "name": "stderr",
     "output_type": "stream",
     "text": [
      "C:\\Users\\Omnia Hosny\\anaconda3\\lib\\site-packages\\IPython\\core\\interactiveshell.py:3165: DtypeWarning: Columns (4,6,31,33,61,62,63,76,79,90,92,94,96,114,115,121) have mixed types.Specify dtype option on import or set low_memory=False.\n",
      "  has_raised = await self.run_ast_nodes(code_ast.body, cell_name,\n"
     ]
    },
    {
     "data": {
      "text/html": [
       "<div>\n",
       "<style scoped>\n",
       "    .dataframe tbody tr th:only-of-type {\n",
       "        vertical-align: middle;\n",
       "    }\n",
       "\n",
       "    .dataframe tbody tr th {\n",
       "        vertical-align: top;\n",
       "    }\n",
       "\n",
       "    .dataframe thead th {\n",
       "        text-align: right;\n",
       "    }\n",
       "</style>\n",
       "<table border=\"1\" class=\"dataframe\">\n",
       "  <thead>\n",
       "    <tr style=\"text-align: right;\">\n",
       "      <th></th>\n",
       "      <th>eventid</th>\n",
       "      <th>iyear</th>\n",
       "      <th>imonth</th>\n",
       "      <th>iday</th>\n",
       "      <th>approxdate</th>\n",
       "      <th>extended</th>\n",
       "      <th>resolution</th>\n",
       "      <th>country</th>\n",
       "      <th>country_txt</th>\n",
       "      <th>region</th>\n",
       "      <th>...</th>\n",
       "      <th>addnotes</th>\n",
       "      <th>scite1</th>\n",
       "      <th>scite2</th>\n",
       "      <th>scite3</th>\n",
       "      <th>dbsource</th>\n",
       "      <th>INT_LOG</th>\n",
       "      <th>INT_IDEO</th>\n",
       "      <th>INT_MISC</th>\n",
       "      <th>INT_ANY</th>\n",
       "      <th>related</th>\n",
       "    </tr>\n",
       "  </thead>\n",
       "  <tbody>\n",
       "    <tr>\n",
       "      <th>0</th>\n",
       "      <td>197000000001</td>\n",
       "      <td>1970</td>\n",
       "      <td>7</td>\n",
       "      <td>2</td>\n",
       "      <td>NaN</td>\n",
       "      <td>0</td>\n",
       "      <td>NaN</td>\n",
       "      <td>58</td>\n",
       "      <td>Dominican Republic</td>\n",
       "      <td>2</td>\n",
       "      <td>...</td>\n",
       "      <td>NaN</td>\n",
       "      <td>NaN</td>\n",
       "      <td>NaN</td>\n",
       "      <td>NaN</td>\n",
       "      <td>PGIS</td>\n",
       "      <td>0</td>\n",
       "      <td>0</td>\n",
       "      <td>0</td>\n",
       "      <td>0</td>\n",
       "      <td>NaN</td>\n",
       "    </tr>\n",
       "    <tr>\n",
       "      <th>1</th>\n",
       "      <td>197000000002</td>\n",
       "      <td>1970</td>\n",
       "      <td>0</td>\n",
       "      <td>0</td>\n",
       "      <td>NaN</td>\n",
       "      <td>0</td>\n",
       "      <td>NaN</td>\n",
       "      <td>130</td>\n",
       "      <td>Mexico</td>\n",
       "      <td>1</td>\n",
       "      <td>...</td>\n",
       "      <td>NaN</td>\n",
       "      <td>NaN</td>\n",
       "      <td>NaN</td>\n",
       "      <td>NaN</td>\n",
       "      <td>PGIS</td>\n",
       "      <td>0</td>\n",
       "      <td>1</td>\n",
       "      <td>1</td>\n",
       "      <td>1</td>\n",
       "      <td>NaN</td>\n",
       "    </tr>\n",
       "    <tr>\n",
       "      <th>2</th>\n",
       "      <td>197001000001</td>\n",
       "      <td>1970</td>\n",
       "      <td>1</td>\n",
       "      <td>0</td>\n",
       "      <td>NaN</td>\n",
       "      <td>0</td>\n",
       "      <td>NaN</td>\n",
       "      <td>160</td>\n",
       "      <td>Philippines</td>\n",
       "      <td>5</td>\n",
       "      <td>...</td>\n",
       "      <td>NaN</td>\n",
       "      <td>NaN</td>\n",
       "      <td>NaN</td>\n",
       "      <td>NaN</td>\n",
       "      <td>PGIS</td>\n",
       "      <td>-9</td>\n",
       "      <td>-9</td>\n",
       "      <td>1</td>\n",
       "      <td>1</td>\n",
       "      <td>NaN</td>\n",
       "    </tr>\n",
       "    <tr>\n",
       "      <th>3</th>\n",
       "      <td>197001000002</td>\n",
       "      <td>1970</td>\n",
       "      <td>1</td>\n",
       "      <td>0</td>\n",
       "      <td>NaN</td>\n",
       "      <td>0</td>\n",
       "      <td>NaN</td>\n",
       "      <td>78</td>\n",
       "      <td>Greece</td>\n",
       "      <td>8</td>\n",
       "      <td>...</td>\n",
       "      <td>NaN</td>\n",
       "      <td>NaN</td>\n",
       "      <td>NaN</td>\n",
       "      <td>NaN</td>\n",
       "      <td>PGIS</td>\n",
       "      <td>-9</td>\n",
       "      <td>-9</td>\n",
       "      <td>1</td>\n",
       "      <td>1</td>\n",
       "      <td>NaN</td>\n",
       "    </tr>\n",
       "    <tr>\n",
       "      <th>4</th>\n",
       "      <td>197001000003</td>\n",
       "      <td>1970</td>\n",
       "      <td>1</td>\n",
       "      <td>0</td>\n",
       "      <td>NaN</td>\n",
       "      <td>0</td>\n",
       "      <td>NaN</td>\n",
       "      <td>101</td>\n",
       "      <td>Japan</td>\n",
       "      <td>4</td>\n",
       "      <td>...</td>\n",
       "      <td>NaN</td>\n",
       "      <td>NaN</td>\n",
       "      <td>NaN</td>\n",
       "      <td>NaN</td>\n",
       "      <td>PGIS</td>\n",
       "      <td>-9</td>\n",
       "      <td>-9</td>\n",
       "      <td>1</td>\n",
       "      <td>1</td>\n",
       "      <td>NaN</td>\n",
       "    </tr>\n",
       "  </tbody>\n",
       "</table>\n",
       "<p>5 rows × 135 columns</p>\n",
       "</div>"
      ],
      "text/plain": [
       "        eventid  iyear  imonth  iday approxdate  extended resolution  country  \\\n",
       "0  197000000001   1970       7     2        NaN         0        NaN       58   \n",
       "1  197000000002   1970       0     0        NaN         0        NaN      130   \n",
       "2  197001000001   1970       1     0        NaN         0        NaN      160   \n",
       "3  197001000002   1970       1     0        NaN         0        NaN       78   \n",
       "4  197001000003   1970       1     0        NaN         0        NaN      101   \n",
       "\n",
       "          country_txt  region  ... addnotes scite1 scite2  scite3  dbsource  \\\n",
       "0  Dominican Republic       2  ...      NaN    NaN    NaN     NaN      PGIS   \n",
       "1              Mexico       1  ...      NaN    NaN    NaN     NaN      PGIS   \n",
       "2         Philippines       5  ...      NaN    NaN    NaN     NaN      PGIS   \n",
       "3              Greece       8  ...      NaN    NaN    NaN     NaN      PGIS   \n",
       "4               Japan       4  ...      NaN    NaN    NaN     NaN      PGIS   \n",
       "\n",
       "   INT_LOG  INT_IDEO INT_MISC INT_ANY  related  \n",
       "0        0         0        0       0      NaN  \n",
       "1        0         1        1       1      NaN  \n",
       "2       -9        -9        1       1      NaN  \n",
       "3       -9        -9        1       1      NaN  \n",
       "4       -9        -9        1       1      NaN  \n",
       "\n",
       "[5 rows x 135 columns]"
      ]
     },
     "execution_count": 17,
     "metadata": {},
     "output_type": "execute_result"
    }
   ],
   "source": [
    "# Reading data\n",
    "filepath = \"globalterrorismdb_0718dist.csv\"\n",
    "data = pd.read_csv(filepath)\n",
    "data.head()"
   ]
  },
  {
   "cell_type": "code",
   "execution_count": 18,
   "id": "26daa8d8",
   "metadata": {},
   "outputs": [
    {
     "data": {
      "text/plain": [
       "(181691, 135)"
      ]
     },
     "execution_count": 18,
     "metadata": {},
     "output_type": "execute_result"
    }
   ],
   "source": [
    "# Shape of data\n",
    "data.shape"
   ]
  },
  {
   "cell_type": "code",
   "execution_count": 19,
   "id": "ced2ed50",
   "metadata": {},
   "outputs": [
    {
     "name": "stdout",
     "output_type": "stream",
     "text": [
      "<class 'pandas.core.frame.DataFrame'>\n",
      "RangeIndex: 181691 entries, 0 to 181690\n",
      "Columns: 135 entries, eventid to related\n",
      "dtypes: float64(55), int64(22), object(58)\n",
      "memory usage: 187.1+ MB\n"
     ]
    }
   ],
   "source": [
    "#information About the data\n",
    "data.info()"
   ]
  },
  {
   "cell_type": "code",
   "execution_count": 20,
   "id": "fb6bb7b9",
   "metadata": {},
   "outputs": [
    {
     "data": {
      "text/plain": [
       "pandas.core.frame.DataFrame"
      ]
     },
     "execution_count": 20,
     "metadata": {},
     "output_type": "execute_result"
    }
   ],
   "source": [
    "type(data)"
   ]
  },
  {
   "cell_type": "code",
   "execution_count": 21,
   "id": "c771e57e",
   "metadata": {},
   "outputs": [
    {
     "data": {
      "text/html": [
       "<div>\n",
       "<style scoped>\n",
       "    .dataframe tbody tr th:only-of-type {\n",
       "        vertical-align: middle;\n",
       "    }\n",
       "\n",
       "    .dataframe tbody tr th {\n",
       "        vertical-align: top;\n",
       "    }\n",
       "\n",
       "    .dataframe thead th {\n",
       "        text-align: right;\n",
       "    }\n",
       "</style>\n",
       "<table border=\"1\" class=\"dataframe\">\n",
       "  <thead>\n",
       "    <tr style=\"text-align: right;\">\n",
       "      <th></th>\n",
       "      <th>eventid</th>\n",
       "      <th>iyear</th>\n",
       "      <th>imonth</th>\n",
       "      <th>iday</th>\n",
       "      <th>extended</th>\n",
       "      <th>country</th>\n",
       "      <th>region</th>\n",
       "      <th>latitude</th>\n",
       "      <th>longitude</th>\n",
       "      <th>specificity</th>\n",
       "      <th>...</th>\n",
       "      <th>ransomamt</th>\n",
       "      <th>ransomamtus</th>\n",
       "      <th>ransompaid</th>\n",
       "      <th>ransompaidus</th>\n",
       "      <th>hostkidoutcome</th>\n",
       "      <th>nreleased</th>\n",
       "      <th>INT_LOG</th>\n",
       "      <th>INT_IDEO</th>\n",
       "      <th>INT_MISC</th>\n",
       "      <th>INT_ANY</th>\n",
       "    </tr>\n",
       "  </thead>\n",
       "  <tbody>\n",
       "    <tr>\n",
       "      <th>count</th>\n",
       "      <td>1.816910e+05</td>\n",
       "      <td>181691.000000</td>\n",
       "      <td>181691.000000</td>\n",
       "      <td>181691.000000</td>\n",
       "      <td>181691.000000</td>\n",
       "      <td>181691.000000</td>\n",
       "      <td>181691.000000</td>\n",
       "      <td>177135.000000</td>\n",
       "      <td>1.771340e+05</td>\n",
       "      <td>181685.000000</td>\n",
       "      <td>...</td>\n",
       "      <td>1.350000e+03</td>\n",
       "      <td>5.630000e+02</td>\n",
       "      <td>7.740000e+02</td>\n",
       "      <td>552.000000</td>\n",
       "      <td>10991.000000</td>\n",
       "      <td>10400.000000</td>\n",
       "      <td>181691.000000</td>\n",
       "      <td>181691.000000</td>\n",
       "      <td>181691.000000</td>\n",
       "      <td>181691.000000</td>\n",
       "    </tr>\n",
       "    <tr>\n",
       "      <th>mean</th>\n",
       "      <td>2.002705e+11</td>\n",
       "      <td>2002.638997</td>\n",
       "      <td>6.467277</td>\n",
       "      <td>15.505644</td>\n",
       "      <td>0.045346</td>\n",
       "      <td>131.968501</td>\n",
       "      <td>7.160938</td>\n",
       "      <td>23.498343</td>\n",
       "      <td>-4.586957e+02</td>\n",
       "      <td>1.451452</td>\n",
       "      <td>...</td>\n",
       "      <td>3.172530e+06</td>\n",
       "      <td>5.784865e+05</td>\n",
       "      <td>7.179437e+05</td>\n",
       "      <td>240.378623</td>\n",
       "      <td>4.629242</td>\n",
       "      <td>-29.018269</td>\n",
       "      <td>-4.543731</td>\n",
       "      <td>-4.464398</td>\n",
       "      <td>0.090010</td>\n",
       "      <td>-3.945952</td>\n",
       "    </tr>\n",
       "    <tr>\n",
       "      <th>std</th>\n",
       "      <td>1.325957e+09</td>\n",
       "      <td>13.259430</td>\n",
       "      <td>3.388303</td>\n",
       "      <td>8.814045</td>\n",
       "      <td>0.208063</td>\n",
       "      <td>112.414535</td>\n",
       "      <td>2.933408</td>\n",
       "      <td>18.569242</td>\n",
       "      <td>2.047790e+05</td>\n",
       "      <td>0.995430</td>\n",
       "      <td>...</td>\n",
       "      <td>3.021157e+07</td>\n",
       "      <td>7.077924e+06</td>\n",
       "      <td>1.014392e+07</td>\n",
       "      <td>2940.967293</td>\n",
       "      <td>2.035360</td>\n",
       "      <td>65.720119</td>\n",
       "      <td>4.543547</td>\n",
       "      <td>4.637152</td>\n",
       "      <td>0.568457</td>\n",
       "      <td>4.691325</td>\n",
       "    </tr>\n",
       "    <tr>\n",
       "      <th>min</th>\n",
       "      <td>1.970000e+11</td>\n",
       "      <td>1970.000000</td>\n",
       "      <td>0.000000</td>\n",
       "      <td>0.000000</td>\n",
       "      <td>0.000000</td>\n",
       "      <td>4.000000</td>\n",
       "      <td>1.000000</td>\n",
       "      <td>-53.154613</td>\n",
       "      <td>-8.618590e+07</td>\n",
       "      <td>1.000000</td>\n",
       "      <td>...</td>\n",
       "      <td>-9.900000e+01</td>\n",
       "      <td>-9.900000e+01</td>\n",
       "      <td>-9.900000e+01</td>\n",
       "      <td>-99.000000</td>\n",
       "      <td>1.000000</td>\n",
       "      <td>-99.000000</td>\n",
       "      <td>-9.000000</td>\n",
       "      <td>-9.000000</td>\n",
       "      <td>-9.000000</td>\n",
       "      <td>-9.000000</td>\n",
       "    </tr>\n",
       "    <tr>\n",
       "      <th>25%</th>\n",
       "      <td>1.991021e+11</td>\n",
       "      <td>1991.000000</td>\n",
       "      <td>4.000000</td>\n",
       "      <td>8.000000</td>\n",
       "      <td>0.000000</td>\n",
       "      <td>78.000000</td>\n",
       "      <td>5.000000</td>\n",
       "      <td>11.510046</td>\n",
       "      <td>4.545640e+00</td>\n",
       "      <td>1.000000</td>\n",
       "      <td>...</td>\n",
       "      <td>0.000000e+00</td>\n",
       "      <td>0.000000e+00</td>\n",
       "      <td>-9.900000e+01</td>\n",
       "      <td>0.000000</td>\n",
       "      <td>2.000000</td>\n",
       "      <td>-99.000000</td>\n",
       "      <td>-9.000000</td>\n",
       "      <td>-9.000000</td>\n",
       "      <td>0.000000</td>\n",
       "      <td>-9.000000</td>\n",
       "    </tr>\n",
       "    <tr>\n",
       "      <th>50%</th>\n",
       "      <td>2.009022e+11</td>\n",
       "      <td>2009.000000</td>\n",
       "      <td>6.000000</td>\n",
       "      <td>15.000000</td>\n",
       "      <td>0.000000</td>\n",
       "      <td>98.000000</td>\n",
       "      <td>6.000000</td>\n",
       "      <td>31.467463</td>\n",
       "      <td>4.324651e+01</td>\n",
       "      <td>1.000000</td>\n",
       "      <td>...</td>\n",
       "      <td>1.500000e+04</td>\n",
       "      <td>0.000000e+00</td>\n",
       "      <td>0.000000e+00</td>\n",
       "      <td>0.000000</td>\n",
       "      <td>4.000000</td>\n",
       "      <td>0.000000</td>\n",
       "      <td>-9.000000</td>\n",
       "      <td>-9.000000</td>\n",
       "      <td>0.000000</td>\n",
       "      <td>0.000000</td>\n",
       "    </tr>\n",
       "    <tr>\n",
       "      <th>75%</th>\n",
       "      <td>2.014081e+11</td>\n",
       "      <td>2014.000000</td>\n",
       "      <td>9.000000</td>\n",
       "      <td>23.000000</td>\n",
       "      <td>0.000000</td>\n",
       "      <td>160.000000</td>\n",
       "      <td>10.000000</td>\n",
       "      <td>34.685087</td>\n",
       "      <td>6.871033e+01</td>\n",
       "      <td>1.000000</td>\n",
       "      <td>...</td>\n",
       "      <td>4.000000e+05</td>\n",
       "      <td>0.000000e+00</td>\n",
       "      <td>1.273412e+03</td>\n",
       "      <td>0.000000</td>\n",
       "      <td>7.000000</td>\n",
       "      <td>1.000000</td>\n",
       "      <td>0.000000</td>\n",
       "      <td>0.000000</td>\n",
       "      <td>0.000000</td>\n",
       "      <td>0.000000</td>\n",
       "    </tr>\n",
       "    <tr>\n",
       "      <th>max</th>\n",
       "      <td>2.017123e+11</td>\n",
       "      <td>2017.000000</td>\n",
       "      <td>12.000000</td>\n",
       "      <td>31.000000</td>\n",
       "      <td>1.000000</td>\n",
       "      <td>1004.000000</td>\n",
       "      <td>12.000000</td>\n",
       "      <td>74.633553</td>\n",
       "      <td>1.793667e+02</td>\n",
       "      <td>5.000000</td>\n",
       "      <td>...</td>\n",
       "      <td>1.000000e+09</td>\n",
       "      <td>1.320000e+08</td>\n",
       "      <td>2.750000e+08</td>\n",
       "      <td>48000.000000</td>\n",
       "      <td>7.000000</td>\n",
       "      <td>2769.000000</td>\n",
       "      <td>1.000000</td>\n",
       "      <td>1.000000</td>\n",
       "      <td>1.000000</td>\n",
       "      <td>1.000000</td>\n",
       "    </tr>\n",
       "  </tbody>\n",
       "</table>\n",
       "<p>8 rows × 77 columns</p>\n",
       "</div>"
      ],
      "text/plain": [
       "            eventid          iyear         imonth           iday  \\\n",
       "count  1.816910e+05  181691.000000  181691.000000  181691.000000   \n",
       "mean   2.002705e+11    2002.638997       6.467277      15.505644   \n",
       "std    1.325957e+09      13.259430       3.388303       8.814045   \n",
       "min    1.970000e+11    1970.000000       0.000000       0.000000   \n",
       "25%    1.991021e+11    1991.000000       4.000000       8.000000   \n",
       "50%    2.009022e+11    2009.000000       6.000000      15.000000   \n",
       "75%    2.014081e+11    2014.000000       9.000000      23.000000   \n",
       "max    2.017123e+11    2017.000000      12.000000      31.000000   \n",
       "\n",
       "            extended        country         region       latitude  \\\n",
       "count  181691.000000  181691.000000  181691.000000  177135.000000   \n",
       "mean        0.045346     131.968501       7.160938      23.498343   \n",
       "std         0.208063     112.414535       2.933408      18.569242   \n",
       "min         0.000000       4.000000       1.000000     -53.154613   \n",
       "25%         0.000000      78.000000       5.000000      11.510046   \n",
       "50%         0.000000      98.000000       6.000000      31.467463   \n",
       "75%         0.000000     160.000000      10.000000      34.685087   \n",
       "max         1.000000    1004.000000      12.000000      74.633553   \n",
       "\n",
       "          longitude    specificity  ...     ransomamt   ransomamtus  \\\n",
       "count  1.771340e+05  181685.000000  ...  1.350000e+03  5.630000e+02   \n",
       "mean  -4.586957e+02       1.451452  ...  3.172530e+06  5.784865e+05   \n",
       "std    2.047790e+05       0.995430  ...  3.021157e+07  7.077924e+06   \n",
       "min   -8.618590e+07       1.000000  ... -9.900000e+01 -9.900000e+01   \n",
       "25%    4.545640e+00       1.000000  ...  0.000000e+00  0.000000e+00   \n",
       "50%    4.324651e+01       1.000000  ...  1.500000e+04  0.000000e+00   \n",
       "75%    6.871033e+01       1.000000  ...  4.000000e+05  0.000000e+00   \n",
       "max    1.793667e+02       5.000000  ...  1.000000e+09  1.320000e+08   \n",
       "\n",
       "         ransompaid  ransompaidus  hostkidoutcome     nreleased  \\\n",
       "count  7.740000e+02    552.000000    10991.000000  10400.000000   \n",
       "mean   7.179437e+05    240.378623        4.629242    -29.018269   \n",
       "std    1.014392e+07   2940.967293        2.035360     65.720119   \n",
       "min   -9.900000e+01    -99.000000        1.000000    -99.000000   \n",
       "25%   -9.900000e+01      0.000000        2.000000    -99.000000   \n",
       "50%    0.000000e+00      0.000000        4.000000      0.000000   \n",
       "75%    1.273412e+03      0.000000        7.000000      1.000000   \n",
       "max    2.750000e+08  48000.000000        7.000000   2769.000000   \n",
       "\n",
       "             INT_LOG       INT_IDEO       INT_MISC        INT_ANY  \n",
       "count  181691.000000  181691.000000  181691.000000  181691.000000  \n",
       "mean       -4.543731      -4.464398       0.090010      -3.945952  \n",
       "std         4.543547       4.637152       0.568457       4.691325  \n",
       "min        -9.000000      -9.000000      -9.000000      -9.000000  \n",
       "25%        -9.000000      -9.000000       0.000000      -9.000000  \n",
       "50%        -9.000000      -9.000000       0.000000       0.000000  \n",
       "75%         0.000000       0.000000       0.000000       0.000000  \n",
       "max         1.000000       1.000000       1.000000       1.000000  \n",
       "\n",
       "[8 rows x 77 columns]"
      ]
     },
     "execution_count": 21,
     "metadata": {},
     "output_type": "execute_result"
    }
   ],
   "source": [
    "data.describe()"
   ]
  },
  {
   "cell_type": "code",
   "execution_count": 22,
   "id": "f891d9de",
   "metadata": {},
   "outputs": [
    {
     "name": "stdout",
     "output_type": "stream",
     "text": [
      "eventid\n",
      "iyear\n",
      "imonth\n",
      "iday\n",
      "approxdate\n",
      "extended\n",
      "resolution\n",
      "country\n",
      "country_txt\n",
      "region\n",
      "region_txt\n",
      "provstate\n",
      "city\n",
      "latitude\n",
      "longitude\n",
      "specificity\n",
      "vicinity\n",
      "location\n",
      "summary\n",
      "crit1\n",
      "crit2\n",
      "crit3\n",
      "doubtterr\n",
      "alternative\n",
      "alternative_txt\n",
      "multiple\n",
      "success\n",
      "suicide\n",
      "attacktype1\n",
      "attacktype1_txt\n",
      "attacktype2\n",
      "attacktype2_txt\n",
      "attacktype3\n",
      "attacktype3_txt\n",
      "targtype1\n",
      "targtype1_txt\n",
      "targsubtype1\n",
      "targsubtype1_txt\n",
      "corp1\n",
      "target1\n",
      "natlty1\n",
      "natlty1_txt\n",
      "targtype2\n",
      "targtype2_txt\n",
      "targsubtype2\n",
      "targsubtype2_txt\n",
      "corp2\n",
      "target2\n",
      "natlty2\n",
      "natlty2_txt\n",
      "targtype3\n",
      "targtype3_txt\n",
      "targsubtype3\n",
      "targsubtype3_txt\n",
      "corp3\n",
      "target3\n",
      "natlty3\n",
      "natlty3_txt\n",
      "gname\n",
      "gsubname\n",
      "gname2\n",
      "gsubname2\n",
      "gname3\n",
      "gsubname3\n",
      "motive\n",
      "guncertain1\n",
      "guncertain2\n",
      "guncertain3\n",
      "individual\n",
      "nperps\n",
      "nperpcap\n",
      "claimed\n",
      "claimmode\n",
      "claimmode_txt\n",
      "claim2\n",
      "claimmode2\n",
      "claimmode2_txt\n",
      "claim3\n",
      "claimmode3\n",
      "claimmode3_txt\n",
      "compclaim\n",
      "weaptype1\n",
      "weaptype1_txt\n",
      "weapsubtype1\n",
      "weapsubtype1_txt\n",
      "weaptype2\n",
      "weaptype2_txt\n",
      "weapsubtype2\n",
      "weapsubtype2_txt\n",
      "weaptype3\n",
      "weaptype3_txt\n",
      "weapsubtype3\n",
      "weapsubtype3_txt\n",
      "weaptype4\n",
      "weaptype4_txt\n",
      "weapsubtype4\n",
      "weapsubtype4_txt\n",
      "weapdetail\n",
      "nkill\n",
      "nkillus\n",
      "nkillter\n",
      "nwound\n",
      "nwoundus\n",
      "nwoundte\n",
      "property\n",
      "propextent\n",
      "propextent_txt\n",
      "propvalue\n",
      "propcomment\n",
      "ishostkid\n",
      "nhostkid\n",
      "nhostkidus\n",
      "nhours\n",
      "ndays\n",
      "divert\n",
      "kidhijcountry\n",
      "ransom\n",
      "ransomamt\n",
      "ransomamtus\n",
      "ransompaid\n",
      "ransompaidus\n",
      "ransomnote\n",
      "hostkidoutcome\n",
      "hostkidoutcome_txt\n",
      "nreleased\n",
      "addnotes\n",
      "scite1\n",
      "scite2\n",
      "scite3\n",
      "dbsource\n",
      "INT_LOG\n",
      "INT_IDEO\n",
      "INT_MISC\n",
      "INT_ANY\n",
      "related\n"
     ]
    }
   ],
   "source": [
    "#know names of columns \n",
    "for col in data.columns:\n",
    "    print(col)"
   ]
  },
  {
   "cell_type": "code",
   "execution_count": 23,
   "id": "55efc41c",
   "metadata": {},
   "outputs": [
    {
     "data": {
      "text/plain": [
       "eventid            0\n",
       "iyear              0\n",
       "imonth             0\n",
       "iday               0\n",
       "approxdate    172452\n",
       "               ...  \n",
       "INT_LOG            0\n",
       "INT_IDEO           0\n",
       "INT_MISC           0\n",
       "INT_ANY            0\n",
       "related       156653\n",
       "Length: 135, dtype: int64"
      ]
     },
     "execution_count": 23,
     "metadata": {},
     "output_type": "execute_result"
    }
   ],
   "source": [
    "# Check the nulls Values\n",
    "data.isnull().sum()"
   ]
  },
  {
   "cell_type": "code",
   "execution_count": 24,
   "id": "b7149191",
   "metadata": {},
   "outputs": [
    {
     "data": {
      "text/plain": [
       "0"
      ]
     },
     "execution_count": 24,
     "metadata": {},
     "output_type": "execute_result"
    }
   ],
   "source": [
    "#no. of duplicated rows\n",
    "data.duplicated().sum()"
   ]
  },
  {
   "cell_type": "code",
   "execution_count": 25,
   "id": "c3189c0e",
   "metadata": {},
   "outputs": [
    {
     "data": {
      "text/plain": [
       "eventid       181691\n",
       "iyear             47\n",
       "imonth            13\n",
       "iday              32\n",
       "approxdate      2244\n",
       "               ...  \n",
       "INT_LOG            3\n",
       "INT_IDEO           3\n",
       "INT_MISC           3\n",
       "INT_ANY            3\n",
       "related        14306\n",
       "Length: 135, dtype: int64"
      ]
     },
     "execution_count": 25,
     "metadata": {},
     "output_type": "execute_result"
    }
   ],
   "source": [
    "data.nunique()"
   ]
  },
  {
   "cell_type": "markdown",
   "id": "3104f681",
   "metadata": {},
   "source": [
    "## OBSERVATIONS of Quality "
   ]
  },
  {
   "cell_type": "markdown",
   "id": "8a45509c",
   "metadata": {},
   "source": [
    "I Selected columns that vaild, and I will used in analysis.\n",
    "[eventid, iyear, imonth, iday, extended, country_txt, region_txt, city, success, suicide, attacktype1_txt, attacktype1, targtype1_txt, targsubtype1_txt, gname, weaptype_txt, weapsubtype1_txt, nkill]\n",
    "country rename to country code, country_txt rename to country, region_txt rename to region,\n"
   ]
  },
  {
   "cell_type": "markdown",
   "id": "c5c14b4e",
   "metadata": {},
   "source": [
    "## Cleaning\n",
    "### Drop columns that is unusefull for this notebook and not valid."
   ]
  },
  {
   "cell_type": "code",
   "execution_count": 26,
   "id": "8078bf59",
   "metadata": {},
   "outputs": [
    {
     "data": {
      "text/html": [
       "<div>\n",
       "<style scoped>\n",
       "    .dataframe tbody tr th:only-of-type {\n",
       "        vertical-align: middle;\n",
       "    }\n",
       "\n",
       "    .dataframe tbody tr th {\n",
       "        vertical-align: top;\n",
       "    }\n",
       "\n",
       "    .dataframe thead th {\n",
       "        text-align: right;\n",
       "    }\n",
       "</style>\n",
       "<table border=\"1\" class=\"dataframe\">\n",
       "  <thead>\n",
       "    <tr style=\"text-align: right;\">\n",
       "      <th></th>\n",
       "      <th>eventid</th>\n",
       "      <th>iyear</th>\n",
       "      <th>imonth</th>\n",
       "      <th>iday</th>\n",
       "      <th>extended</th>\n",
       "      <th>country_txt</th>\n",
       "      <th>region_txt</th>\n",
       "      <th>city</th>\n",
       "      <th>success</th>\n",
       "      <th>suicide</th>\n",
       "      <th>attacktype1_txt</th>\n",
       "      <th>targtype1_txt</th>\n",
       "      <th>weaptype1_txt</th>\n",
       "      <th>nkill</th>\n",
       "    </tr>\n",
       "  </thead>\n",
       "  <tbody>\n",
       "    <tr>\n",
       "      <th>0</th>\n",
       "      <td>197000000001</td>\n",
       "      <td>1970</td>\n",
       "      <td>7</td>\n",
       "      <td>2</td>\n",
       "      <td>0</td>\n",
       "      <td>Dominican Republic</td>\n",
       "      <td>Central America &amp; Caribbean</td>\n",
       "      <td>Santo Domingo</td>\n",
       "      <td>1</td>\n",
       "      <td>0</td>\n",
       "      <td>Assassination</td>\n",
       "      <td>Private Citizens &amp; Property</td>\n",
       "      <td>Unknown</td>\n",
       "      <td>1.0</td>\n",
       "    </tr>\n",
       "    <tr>\n",
       "      <th>1</th>\n",
       "      <td>197000000002</td>\n",
       "      <td>1970</td>\n",
       "      <td>0</td>\n",
       "      <td>0</td>\n",
       "      <td>0</td>\n",
       "      <td>Mexico</td>\n",
       "      <td>North America</td>\n",
       "      <td>Mexico city</td>\n",
       "      <td>1</td>\n",
       "      <td>0</td>\n",
       "      <td>Hostage Taking (Kidnapping)</td>\n",
       "      <td>Government (Diplomatic)</td>\n",
       "      <td>Unknown</td>\n",
       "      <td>0.0</td>\n",
       "    </tr>\n",
       "    <tr>\n",
       "      <th>2</th>\n",
       "      <td>197001000001</td>\n",
       "      <td>1970</td>\n",
       "      <td>1</td>\n",
       "      <td>0</td>\n",
       "      <td>0</td>\n",
       "      <td>Philippines</td>\n",
       "      <td>Southeast Asia</td>\n",
       "      <td>Unknown</td>\n",
       "      <td>1</td>\n",
       "      <td>0</td>\n",
       "      <td>Assassination</td>\n",
       "      <td>Journalists &amp; Media</td>\n",
       "      <td>Unknown</td>\n",
       "      <td>1.0</td>\n",
       "    </tr>\n",
       "    <tr>\n",
       "      <th>3</th>\n",
       "      <td>197001000002</td>\n",
       "      <td>1970</td>\n",
       "      <td>1</td>\n",
       "      <td>0</td>\n",
       "      <td>0</td>\n",
       "      <td>Greece</td>\n",
       "      <td>Western Europe</td>\n",
       "      <td>Athens</td>\n",
       "      <td>1</td>\n",
       "      <td>0</td>\n",
       "      <td>Bombing/Explosion</td>\n",
       "      <td>Government (Diplomatic)</td>\n",
       "      <td>Explosives</td>\n",
       "      <td>NaN</td>\n",
       "    </tr>\n",
       "    <tr>\n",
       "      <th>4</th>\n",
       "      <td>197001000003</td>\n",
       "      <td>1970</td>\n",
       "      <td>1</td>\n",
       "      <td>0</td>\n",
       "      <td>0</td>\n",
       "      <td>Japan</td>\n",
       "      <td>East Asia</td>\n",
       "      <td>Fukouka</td>\n",
       "      <td>1</td>\n",
       "      <td>0</td>\n",
       "      <td>Facility/Infrastructure Attack</td>\n",
       "      <td>Government (Diplomatic)</td>\n",
       "      <td>Incendiary</td>\n",
       "      <td>NaN</td>\n",
       "    </tr>\n",
       "  </tbody>\n",
       "</table>\n",
       "</div>"
      ],
      "text/plain": [
       "        eventid  iyear  imonth  iday  extended         country_txt  \\\n",
       "0  197000000001   1970       7     2         0  Dominican Republic   \n",
       "1  197000000002   1970       0     0         0              Mexico   \n",
       "2  197001000001   1970       1     0         0         Philippines   \n",
       "3  197001000002   1970       1     0         0              Greece   \n",
       "4  197001000003   1970       1     0         0               Japan   \n",
       "\n",
       "                    region_txt           city  success  suicide  \\\n",
       "0  Central America & Caribbean  Santo Domingo        1        0   \n",
       "1                North America    Mexico city        1        0   \n",
       "2               Southeast Asia        Unknown        1        0   \n",
       "3               Western Europe         Athens        1        0   \n",
       "4                    East Asia        Fukouka        1        0   \n",
       "\n",
       "                  attacktype1_txt                targtype1_txt weaptype1_txt  \\\n",
       "0                   Assassination  Private Citizens & Property       Unknown   \n",
       "1     Hostage Taking (Kidnapping)      Government (Diplomatic)       Unknown   \n",
       "2                   Assassination          Journalists & Media       Unknown   \n",
       "3               Bombing/Explosion      Government (Diplomatic)    Explosives   \n",
       "4  Facility/Infrastructure Attack      Government (Diplomatic)    Incendiary   \n",
       "\n",
       "   nkill  \n",
       "0    1.0  \n",
       "1    0.0  \n",
       "2    1.0  \n",
       "3    NaN  \n",
       "4    NaN  "
      ]
     },
     "execution_count": 26,
     "metadata": {},
     "output_type": "execute_result"
    }
   ],
   "source": [
    "df = data.filter(['eventid', 'iyear', 'imonth', 'iday', 'extended', 'country_txt', 'region_txt', 'city', 'success', 'suicide', 'attacktype1_txt', 'targtype1_txt', 'targsubtype1_txt,' 'gname', 'weaptype1_txt', 'nkill'], axis=1)\n",
    "df.head()"
   ]
  },
  {
   "cell_type": "code",
   "execution_count": 27,
   "id": "bc02ee81",
   "metadata": {},
   "outputs": [
    {
     "data": {
      "text/plain": [
       "eventid                0\n",
       "iyear                  0\n",
       "imonth                 0\n",
       "iday                   0\n",
       "extended               0\n",
       "country_txt            0\n",
       "region_txt             0\n",
       "city                 434\n",
       "success                0\n",
       "suicide                0\n",
       "attacktype1_txt        0\n",
       "targtype1_txt          0\n",
       "weaptype1_txt          0\n",
       "nkill              10313\n",
       "dtype: int64"
      ]
     },
     "execution_count": 27,
     "metadata": {},
     "output_type": "execute_result"
    }
   ],
   "source": [
    "#check nulls\n",
    "df.isnull().sum()"
   ]
  },
  {
   "cell_type": "markdown",
   "id": "48e12dd0",
   "metadata": {},
   "source": [
    "####  Fill nulls from 'nkill'"
   ]
  },
  {
   "cell_type": "code",
   "execution_count": 28,
   "id": "e73e280c",
   "metadata": {},
   "outputs": [
    {
     "data": {
      "text/plain": [
       "0"
      ]
     },
     "execution_count": 28,
     "metadata": {},
     "output_type": "execute_result"
    }
   ],
   "source": [
    "median_no= df.nkill.median()\n",
    "#fill nulls\n",
    "df.fillna(median_no, inplace=True)\n",
    "#Check nulls\n",
    "sum(df.nkill.isnull())"
   ]
  },
  {
   "cell_type": "markdown",
   "id": "e576bac2",
   "metadata": {},
   "source": [
    "#### Fill nulls from 'city' by Unknown  "
   ]
  },
  {
   "cell_type": "code",
   "execution_count": 29,
   "id": "704383f4",
   "metadata": {},
   "outputs": [
    {
     "data": {
      "text/plain": [
       "0"
      ]
     },
     "execution_count": 29,
     "metadata": {},
     "output_type": "execute_result"
    }
   ],
   "source": [
    "#fill nulls\n",
    "df.fillna('city',inplace=True)\n",
    "\n",
    "#Check nulls\n",
    "sum(df.city.isnull())"
   ]
  },
  {
   "cell_type": "markdown",
   "id": "ef51c920",
   "metadata": {},
   "source": [
    "##### rename colums"
   ]
  },
  {
   "cell_type": "code",
   "execution_count": 52,
   "id": "f4867b4d",
   "metadata": {},
   "outputs": [
    {
     "data": {
      "text/html": [
       "<div>\n",
       "<style scoped>\n",
       "    .dataframe tbody tr th:only-of-type {\n",
       "        vertical-align: middle;\n",
       "    }\n",
       "\n",
       "    .dataframe tbody tr th {\n",
       "        vertical-align: top;\n",
       "    }\n",
       "\n",
       "    .dataframe thead th {\n",
       "        text-align: right;\n",
       "    }\n",
       "</style>\n",
       "<table border=\"1\" class=\"dataframe\">\n",
       "  <thead>\n",
       "    <tr style=\"text-align: right;\">\n",
       "      <th></th>\n",
       "      <th>eventid</th>\n",
       "      <th>year</th>\n",
       "      <th>month</th>\n",
       "      <th>day</th>\n",
       "      <th>during_24</th>\n",
       "      <th>country</th>\n",
       "      <th>region</th>\n",
       "      <th>city</th>\n",
       "      <th>success</th>\n",
       "      <th>suicide</th>\n",
       "      <th>attack_type</th>\n",
       "      <th>targe_type</th>\n",
       "      <th>weapon_type</th>\n",
       "      <th>nkill</th>\n",
       "    </tr>\n",
       "  </thead>\n",
       "  <tbody>\n",
       "    <tr>\n",
       "      <th>0</th>\n",
       "      <td>197000000001</td>\n",
       "      <td>1970</td>\n",
       "      <td>7</td>\n",
       "      <td>2</td>\n",
       "      <td>0</td>\n",
       "      <td>Dominican Republic</td>\n",
       "      <td>Central America &amp; Caribbean</td>\n",
       "      <td>Santo Domingo</td>\n",
       "      <td>1</td>\n",
       "      <td>0</td>\n",
       "      <td>Assassination</td>\n",
       "      <td>Private Citizens &amp; Property</td>\n",
       "      <td>Unknown</td>\n",
       "      <td>1.0</td>\n",
       "    </tr>\n",
       "    <tr>\n",
       "      <th>1</th>\n",
       "      <td>197000000002</td>\n",
       "      <td>1970</td>\n",
       "      <td>0</td>\n",
       "      <td>0</td>\n",
       "      <td>0</td>\n",
       "      <td>Mexico</td>\n",
       "      <td>North America</td>\n",
       "      <td>Mexico city</td>\n",
       "      <td>1</td>\n",
       "      <td>0</td>\n",
       "      <td>Hostage Taking (Kidnapping)</td>\n",
       "      <td>Government (Diplomatic)</td>\n",
       "      <td>Unknown</td>\n",
       "      <td>0.0</td>\n",
       "    </tr>\n",
       "    <tr>\n",
       "      <th>2</th>\n",
       "      <td>197001000001</td>\n",
       "      <td>1970</td>\n",
       "      <td>1</td>\n",
       "      <td>0</td>\n",
       "      <td>0</td>\n",
       "      <td>Philippines</td>\n",
       "      <td>Southeast Asia</td>\n",
       "      <td>Unknown</td>\n",
       "      <td>1</td>\n",
       "      <td>0</td>\n",
       "      <td>Assassination</td>\n",
       "      <td>Journalists &amp; Media</td>\n",
       "      <td>Unknown</td>\n",
       "      <td>1.0</td>\n",
       "    </tr>\n",
       "    <tr>\n",
       "      <th>3</th>\n",
       "      <td>197001000002</td>\n",
       "      <td>1970</td>\n",
       "      <td>1</td>\n",
       "      <td>0</td>\n",
       "      <td>0</td>\n",
       "      <td>Greece</td>\n",
       "      <td>Western Europe</td>\n",
       "      <td>Athens</td>\n",
       "      <td>1</td>\n",
       "      <td>0</td>\n",
       "      <td>Bombing/Explosion</td>\n",
       "      <td>Government (Diplomatic)</td>\n",
       "      <td>Explosives</td>\n",
       "      <td>0.0</td>\n",
       "    </tr>\n",
       "    <tr>\n",
       "      <th>4</th>\n",
       "      <td>197001000003</td>\n",
       "      <td>1970</td>\n",
       "      <td>1</td>\n",
       "      <td>0</td>\n",
       "      <td>0</td>\n",
       "      <td>Japan</td>\n",
       "      <td>East Asia</td>\n",
       "      <td>Fukouka</td>\n",
       "      <td>1</td>\n",
       "      <td>0</td>\n",
       "      <td>Facility/Infrastructure Attack</td>\n",
       "      <td>Government (Diplomatic)</td>\n",
       "      <td>Incendiary</td>\n",
       "      <td>0.0</td>\n",
       "    </tr>\n",
       "  </tbody>\n",
       "</table>\n",
       "</div>"
      ],
      "text/plain": [
       "        eventid  year  month  day  during_24             country  \\\n",
       "0  197000000001  1970      7    2          0  Dominican Republic   \n",
       "1  197000000002  1970      0    0          0              Mexico   \n",
       "2  197001000001  1970      1    0          0         Philippines   \n",
       "3  197001000002  1970      1    0          0              Greece   \n",
       "4  197001000003  1970      1    0          0               Japan   \n",
       "\n",
       "                        region           city  success  suicide  \\\n",
       "0  Central America & Caribbean  Santo Domingo        1        0   \n",
       "1                North America    Mexico city        1        0   \n",
       "2               Southeast Asia        Unknown        1        0   \n",
       "3               Western Europe         Athens        1        0   \n",
       "4                    East Asia        Fukouka        1        0   \n",
       "\n",
       "                      attack_type                   targe_type weapon_type  \\\n",
       "0                   Assassination  Private Citizens & Property     Unknown   \n",
       "1     Hostage Taking (Kidnapping)      Government (Diplomatic)     Unknown   \n",
       "2                   Assassination          Journalists & Media     Unknown   \n",
       "3               Bombing/Explosion      Government (Diplomatic)  Explosives   \n",
       "4  Facility/Infrastructure Attack      Government (Diplomatic)  Incendiary   \n",
       "\n",
       "   nkill  \n",
       "0    1.0  \n",
       "1    0.0  \n",
       "2    1.0  \n",
       "3    0.0  \n",
       "4    0.0  "
      ]
     },
     "execution_count": 52,
     "metadata": {},
     "output_type": "execute_result"
    }
   ],
   "source": [
    "df.rename(columns = {'iyear':'year', 'imonth':'month', 'iday':'day', 'extended': 'during_24', 'country_txt':'country','targtype1_txt':'target_type' ,'region_txt':'region', 'attacktype1_txt':'attack_type', 'targetype1_txt':'targt_type', 'targsubtype1_txt': 'target_sub_type', 'gname':'group_name', 'weaptype1_txt':'weapon_type'}, inplace=True)\n",
    "df.head()"
   ]
  },
  {
   "cell_type": "code",
   "execution_count": 31,
   "id": "a759003e",
   "metadata": {},
   "outputs": [
    {
     "data": {
      "text/html": [
       "<div>\n",
       "<style scoped>\n",
       "    .dataframe tbody tr th:only-of-type {\n",
       "        vertical-align: middle;\n",
       "    }\n",
       "\n",
       "    .dataframe tbody tr th {\n",
       "        vertical-align: top;\n",
       "    }\n",
       "\n",
       "    .dataframe thead th {\n",
       "        text-align: right;\n",
       "    }\n",
       "</style>\n",
       "<table border=\"1\" class=\"dataframe\">\n",
       "  <thead>\n",
       "    <tr style=\"text-align: right;\">\n",
       "      <th></th>\n",
       "      <th>eventid</th>\n",
       "      <th>year</th>\n",
       "      <th>month</th>\n",
       "      <th>day</th>\n",
       "      <th>during_24</th>\n",
       "      <th>success</th>\n",
       "      <th>suicide</th>\n",
       "      <th>nkill</th>\n",
       "    </tr>\n",
       "  </thead>\n",
       "  <tbody>\n",
       "    <tr>\n",
       "      <th>count</th>\n",
       "      <td>1.816910e+05</td>\n",
       "      <td>181691.000000</td>\n",
       "      <td>181691.000000</td>\n",
       "      <td>181691.000000</td>\n",
       "      <td>181691.000000</td>\n",
       "      <td>181691.000000</td>\n",
       "      <td>181691.000000</td>\n",
       "      <td>181691.000000</td>\n",
       "    </tr>\n",
       "    <tr>\n",
       "      <th>mean</th>\n",
       "      <td>2.002705e+11</td>\n",
       "      <td>2002.638997</td>\n",
       "      <td>6.467277</td>\n",
       "      <td>15.505644</td>\n",
       "      <td>0.045346</td>\n",
       "      <td>0.889598</td>\n",
       "      <td>0.036507</td>\n",
       "      <td>2.266860</td>\n",
       "    </tr>\n",
       "    <tr>\n",
       "      <th>std</th>\n",
       "      <td>1.325957e+09</td>\n",
       "      <td>13.259430</td>\n",
       "      <td>3.388303</td>\n",
       "      <td>8.814045</td>\n",
       "      <td>0.208063</td>\n",
       "      <td>0.313391</td>\n",
       "      <td>0.187549</td>\n",
       "      <td>11.227057</td>\n",
       "    </tr>\n",
       "    <tr>\n",
       "      <th>min</th>\n",
       "      <td>1.970000e+11</td>\n",
       "      <td>1970.000000</td>\n",
       "      <td>0.000000</td>\n",
       "      <td>0.000000</td>\n",
       "      <td>0.000000</td>\n",
       "      <td>0.000000</td>\n",
       "      <td>0.000000</td>\n",
       "      <td>0.000000</td>\n",
       "    </tr>\n",
       "    <tr>\n",
       "      <th>25%</th>\n",
       "      <td>1.991021e+11</td>\n",
       "      <td>1991.000000</td>\n",
       "      <td>4.000000</td>\n",
       "      <td>8.000000</td>\n",
       "      <td>0.000000</td>\n",
       "      <td>1.000000</td>\n",
       "      <td>0.000000</td>\n",
       "      <td>0.000000</td>\n",
       "    </tr>\n",
       "    <tr>\n",
       "      <th>50%</th>\n",
       "      <td>2.009022e+11</td>\n",
       "      <td>2009.000000</td>\n",
       "      <td>6.000000</td>\n",
       "      <td>15.000000</td>\n",
       "      <td>0.000000</td>\n",
       "      <td>1.000000</td>\n",
       "      <td>0.000000</td>\n",
       "      <td>0.000000</td>\n",
       "    </tr>\n",
       "    <tr>\n",
       "      <th>75%</th>\n",
       "      <td>2.014081e+11</td>\n",
       "      <td>2014.000000</td>\n",
       "      <td>9.000000</td>\n",
       "      <td>23.000000</td>\n",
       "      <td>0.000000</td>\n",
       "      <td>1.000000</td>\n",
       "      <td>0.000000</td>\n",
       "      <td>2.000000</td>\n",
       "    </tr>\n",
       "    <tr>\n",
       "      <th>max</th>\n",
       "      <td>2.017123e+11</td>\n",
       "      <td>2017.000000</td>\n",
       "      <td>12.000000</td>\n",
       "      <td>31.000000</td>\n",
       "      <td>1.000000</td>\n",
       "      <td>1.000000</td>\n",
       "      <td>1.000000</td>\n",
       "      <td>1570.000000</td>\n",
       "    </tr>\n",
       "  </tbody>\n",
       "</table>\n",
       "</div>"
      ],
      "text/plain": [
       "            eventid           year          month            day  \\\n",
       "count  1.816910e+05  181691.000000  181691.000000  181691.000000   \n",
       "mean   2.002705e+11    2002.638997       6.467277      15.505644   \n",
       "std    1.325957e+09      13.259430       3.388303       8.814045   \n",
       "min    1.970000e+11    1970.000000       0.000000       0.000000   \n",
       "25%    1.991021e+11    1991.000000       4.000000       8.000000   \n",
       "50%    2.009022e+11    2009.000000       6.000000      15.000000   \n",
       "75%    2.014081e+11    2014.000000       9.000000      23.000000   \n",
       "max    2.017123e+11    2017.000000      12.000000      31.000000   \n",
       "\n",
       "           during_24        success        suicide          nkill  \n",
       "count  181691.000000  181691.000000  181691.000000  181691.000000  \n",
       "mean        0.045346       0.889598       0.036507       2.266860  \n",
       "std         0.208063       0.313391       0.187549      11.227057  \n",
       "min         0.000000       0.000000       0.000000       0.000000  \n",
       "25%         0.000000       1.000000       0.000000       0.000000  \n",
       "50%         0.000000       1.000000       0.000000       0.000000  \n",
       "75%         0.000000       1.000000       0.000000       2.000000  \n",
       "max         1.000000       1.000000       1.000000    1570.000000  "
      ]
     },
     "execution_count": 31,
     "metadata": {},
     "output_type": "execute_result"
    }
   ],
   "source": [
    "df.describe()"
   ]
  },
  {
   "cell_type": "code",
   "execution_count": 32,
   "id": "8cb58f33",
   "metadata": {},
   "outputs": [
    {
     "name": "stdout",
     "output_type": "stream",
     "text": [
      "<class 'pandas.core.frame.DataFrame'>\n",
      "RangeIndex: 181691 entries, 0 to 181690\n",
      "Data columns (total 14 columns):\n",
      " #   Column         Non-Null Count   Dtype  \n",
      "---  ------         --------------   -----  \n",
      " 0   eventid        181691 non-null  int64  \n",
      " 1   year           181691 non-null  int64  \n",
      " 2   month          181691 non-null  int64  \n",
      " 3   day            181691 non-null  int64  \n",
      " 4   during_24      181691 non-null  int64  \n",
      " 5   country        181691 non-null  object \n",
      " 6   region         181691 non-null  object \n",
      " 7   city           181691 non-null  object \n",
      " 8   success        181691 non-null  int64  \n",
      " 9   suicide        181691 non-null  int64  \n",
      " 10  attack_type    181691 non-null  object \n",
      " 11  targtype1_txt  181691 non-null  object \n",
      " 12  weapon_type    181691 non-null  object \n",
      " 13  nkill          181691 non-null  float64\n",
      "dtypes: float64(1), int64(7), object(6)\n",
      "memory usage: 19.4+ MB\n"
     ]
    }
   ],
   "source": [
    "df.info()"
   ]
  },
  {
   "cell_type": "code",
   "execution_count": 33,
   "id": "8192e784",
   "metadata": {},
   "outputs": [
    {
     "data": {
      "text/plain": [
       "Unknown            9775\n",
       "Baghdad            7589\n",
       "Karachi            2652\n",
       "Lima               2359\n",
       "Mosul              2265\n",
       "                   ... \n",
       "Tabelot               1\n",
       "Schramberg            1\n",
       "Chappari              1\n",
       "Prempur               1\n",
       "Mompos district       1\n",
       "Name: city, Length: 36675, dtype: int64"
      ]
     },
     "execution_count": 33,
     "metadata": {},
     "output_type": "execute_result"
    }
   ],
   "source": [
    "df['city'].value_counts()"
   ]
  },
  {
   "cell_type": "markdown",
   "id": "d4944627",
   "metadata": {},
   "source": [
    "## Q1- What is the total countries affected?"
   ]
  },
  {
   "cell_type": "code",
   "execution_count": 34,
   "id": "e6bc30c6",
   "metadata": {},
   "outputs": [
    {
     "data": {
      "text/plain": [
       "country    205\n",
       "dtype: int64"
      ]
     },
     "execution_count": 34,
     "metadata": {},
     "output_type": "execute_result"
    }
   ],
   "source": [
    "df[['country']].nunique()"
   ]
  },
  {
   "cell_type": "markdown",
   "id": "fe49d404",
   "metadata": {},
   "source": [
    "#####  There are 205 country affected by attacks"
   ]
  },
  {
   "cell_type": "markdown",
   "id": "1cc419c0",
   "metadata": {},
   "source": [
    "## 2- What is the top countries affected by attacks?"
   ]
  },
  {
   "cell_type": "code",
   "execution_count": 35,
   "id": "a805e33f",
   "metadata": {},
   "outputs": [
    {
     "data": {
      "text/plain": [
       "Text(0.5, 1.0, ' Top Countries Affected By Attacks')"
      ]
     },
     "execution_count": 35,
     "metadata": {},
     "output_type": "execute_result"
    },
    {
     "data": {
      "image/png": "[encoded data removed]",
      "text/plain": [
       "<Figure size 432x288 with 1 Axes>"
      ]
     },
     "metadata": {
      "needs_background": "light"
     },
     "output_type": "display_data"
    }
   ],
   "source": [
    "group=pd.DataFrame(df.groupby(['country'])['success'].count().sort_values(ascending=False)[:15])\n",
    "sns.barplot(y=group.index, x=group.values.ravel(), data=group)\n",
    "plt.title(' Top Countries Affected By Attacks')"
   ]
  },
  {
   "cell_type": "markdown",
   "id": "268ce302",
   "metadata": {},
   "source": [
    "### Percentage Of Top Countries "
   ]
  },
  {
   "cell_type": "code",
   "execution_count": 36,
   "id": "0c350aa1",
   "metadata": {},
   "outputs": [
    {
     "name": "stdout",
     "output_type": "stream",
     "text": [
      "Iraq Percentage is 13.559284719661402 % From all world\n",
      "Pakistan Percentage is 7.907931598152908 % From all world\n",
      "Afghanistan Percentage is 7.006951362478054 % From all world\n",
      "Sum of all perecentages is 28.474167680292368 % From all world\n"
     ]
    }
   ],
   "source": [
    "# name column\n",
    "group.columns =['Country']\n",
    "\n",
    "#calculate the percentage top country\n",
    "IraqPercentage= (group['Country'][0] / df.success.count()) * 100\n",
    "\n",
    "PakistanPercentage = (group['Country'][1] / df.success.count()) * 100\n",
    "\n",
    "AfghanistanPercentage =(group['Country'][2] / df.success.count()) * 100\n",
    "\n",
    "#calculate sums of all the percentage \n",
    "SumOfPerecentage = IraqPercentage + PakistanPercentage + AfghanistanPercentage\n",
    "\n",
    "#print all percentage\n",
    "print(\"Iraq Percentage is {} % From all world\".format(IraqPercentage))\n",
    "print(\"Pakistan Percentage is {} % From all world\".format(PakistanPercentage))\n",
    "print(\"Afghanistan Percentage is {} % From all world\".format(AfghanistanPercentage))\n",
    "print(\"Sum of all perecentages is {} % From all world\".format(SumOfPerecentage))"
   ]
  },
  {
   "cell_type": "markdown",
   "id": "e37a33f7",
   "metadata": {},
   "source": [
    "##### Therefore, most of the attack occurs in only three countries, so that the proportion of three countries of the attack in the world is more than 27%"
   ]
  },
  {
   "cell_type": "markdown",
   "id": "88b335d0",
   "metadata": {},
   "source": [
    "### 3- What is the total attackes in each Decade?"
   ]
  },
  {
   "cell_type": "code",
   "execution_count": 37,
   "id": "60395839",
   "metadata": {},
   "outputs": [
    {
     "data": {
      "text/plain": [
       "Text(0, 0.5, ' Count Of Attacks')"
      ]
     },
     "execution_count": 37,
     "metadata": {},
     "output_type": "execute_result"
    },
    {
     "data": {
      "image/png": "[encoded data removed]",
      "text/plain": [
       "<Figure size 432x288 with 1 Axes>"
      ]
     },
     "metadata": {
      "needs_background": "light"
     },
     "output_type": "display_data"
    }
   ],
   "source": [
    "group= pd.DataFrame(df.groupby(['year'])['success'].count())\n",
    "sns.lineplot(data=group)\n",
    "x = [1970, 1980, 1990, 2000, 2010, 2020]\n",
    "plt.xticks(x)\n",
    "plt.title(\" Total Attackes In Each Decade\")\n",
    "plt.xlabel(\" Year\")\n",
    "plt.ylabel(\" Count Of Attacks\")"
   ]
  },
  {
   "cell_type": "markdown",
   "id": "1ca7976f",
   "metadata": {},
   "source": [
    "###### AS We See least decade is most attackes "
   ]
  },
  {
   "cell_type": "code",
   "execution_count": 38,
   "id": "a44a4f6b",
   "metadata": {},
   "outputs": [
    {
     "name": "stdout",
     "output_type": "stream",
     "text": [
      "Percentage first decade of attacks 5.4565168335250505 %\n",
      "Percentage last decade of attacks 46.97535926380503 %\n",
      "The percentage increase of attacks from the first decade to the last decade in the data 7.6090377244301 %\n"
     ]
    }
   ],
   "source": [
    "# name column\n",
    "group.columns =['Count']\n",
    "\n",
    "# calculate Percentage of the first decade of attack\n",
    "firstDecadeOfAttack = (group['Count'][:10].sum()/df.success.count()) *100\n",
    "\n",
    "# calculate Percentage of the last decade of attack in data\n",
    "lastDecadeOfAttack = (group['Count'][:-10].sum()/df.success.count()) *100\n",
    "\n",
    "# calculate The percentage increase of attacks from the first decade to the last decade in the data\n",
    "percentageIncreasing = ((lastDecadeOfAttack - firstDecadeOfAttack) / firstDecadeOfAttack)\n",
    "\n",
    "# print all percentage \n",
    "print(\"Percentage first decade of attacks {} %\".format(firstDecadeOfAttack))\n",
    "print(\"Percentage last decade of attacks {} %\".format(lastDecadeOfAttack))\n",
    "print(\"The percentage increase of attacks from the first decade to the last decade in the data {} %\".format(percentageIncreasing))"
   ]
  },
  {
   "cell_type": "markdown",
   "id": "a55fd3e2",
   "metadata": {},
   "source": [
    "### 5- How many attacks lasted more than 24?"
   ]
  },
  {
   "cell_type": "code",
   "execution_count": 39,
   "id": "55547b38",
   "metadata": {},
   "outputs": [
    {
     "name": "stdout",
     "output_type": "stream",
     "text": [
      "Percentage of the duration of attacks less than 24 hour is 95.46537803193334 %\n"
     ]
    },
    {
     "data": {
      "text/plain": [
       "Text(0, 0.5, 'Count OF Attackes')"
      ]
     },
     "execution_count": 39,
     "metadata": {},
     "output_type": "execute_result"
    },
    {
     "data": {
      "image/png": "[encoded data removed]",
      "text/plain": [
       "<Figure size 432x288 with 1 Axes>"
      ]
     },
     "metadata": {
      "needs_background": "light"
     },
     "output_type": "display_data"
    }
   ],
   "source": [
    "group = pd.DataFrame(df.groupby(df['during_24'])['success'].count())\n",
    "# name column\n",
    "group.columns =['Count']\n",
    "\n",
    "# calculate Percentage of the duration of attacks\n",
    "DurationOfAttack = (group['Count'][0].sum()/df.success.count()) *100\n",
    "\n",
    "#print Percentage of the duration of attacks\n",
    "print(\"Percentage of the duration of attacks less than 24 hour is {} %\".format(DurationOfAttack))\n",
    "\n",
    "#visualize results\n",
    "sns.barplot(x=group.index, y=group.values.ravel(), data=group)\n",
    "x=['Less Than 24 Hour', 'More Than 24 Hour']\n",
    "plt.xticks(range(0,len(group.index)),x)\n",
    "plt.title(\"Attack duration\")\n",
    "plt.xlabel(\"Duration\")\n",
    "plt.ylabel(\"Count OF Attackes\")\n"
   ]
  },
  {
   "cell_type": "markdown",
   "id": "1b47a7fc",
   "metadata": {},
   "source": [
    " Most of the attack lasts less than 24 hour by proportion  95.5%"
   ]
  },
  {
   "cell_type": "markdown",
   "id": "10a4abda",
   "metadata": {},
   "source": [
    "### 6- How many attacks are suicide?"
   ]
  },
  {
   "cell_type": "code",
   "execution_count": 40,
   "id": "df50c631",
   "metadata": {},
   "outputs": [
    {
     "name": "stdout",
     "output_type": "stream",
     "text": [
      "Percentage of Suicide attacks in the world is 96.34929633278479 %\n"
     ]
    },
    {
     "data": {
      "text/plain": [
       "Text(0, 0.5, 'Count OF Attackes')"
      ]
     },
     "execution_count": 40,
     "metadata": {},
     "output_type": "execute_result"
    },
    {
     "data": {
      "image/png": "[encoded data removed]",
      "text/plain": [
       "<Figure size 432x288 with 1 Axes>"
      ]
     },
     "metadata": {
      "needs_background": "light"
     },
     "output_type": "display_data"
    }
   ],
   "source": [
    "Suicide = pd.DataFrame(df.groupby(df['suicide'])['success'].count())\n",
    "# name column\n",
    "Suicide.columns =['Count']\n",
    "\n",
    "# calculate Percentage of Suicide attacks in the world\n",
    "SuicideAttack = (Suicide['Count'][0].sum()/df.success.count()) *100\n",
    "\n",
    "#print Percentage of Suicide Attack\n",
    "print(\"Percentage of Suicide attacks in the world is {} %\".format(SuicideAttack))\n",
    "\n",
    "#visualize results\n",
    "sns.barplot(x=Suicide.index, y=Suicide.values.ravel(), data=Suicide)\n",
    "x=['No Suicide', 'Suicide']\n",
    "plt.xticks(range(0,len(Suicide.index)),x)\n",
    "plt.title(\"Count Of Suicide Attacks\")\n",
    "plt.xlabel(\"Suicide\")\n",
    "plt.ylabel(\"Count OF Attackes\")"
   ]
  },
  {
   "cell_type": "markdown",
   "id": "6587121e",
   "metadata": {},
   "source": [
    "Percentage of Suicide attacks in the world is 96.3%"
   ]
  },
  {
   "cell_type": "markdown",
   "id": "2458eaee",
   "metadata": {},
   "source": [
    "### 8-  What are the total attacks in each city?"
   ]
  },
  {
   "cell_type": "code",
   "execution_count": 41,
   "id": "3a915016",
   "metadata": {},
   "outputs": [
    {
     "data": {
      "text/plain": [
       "Text(0.5, 1.0, 'Top City Of Attacks')"
      ]
     },
     "execution_count": 41,
     "metadata": {},
     "output_type": "execute_result"
    },
    {
     "data": {
      "image/png": "[encoded data removed]",
      "text/plain": [
       "<Figure size 432x288 with 1 Axes>"
      ]
     },
     "metadata": {
      "needs_background": "light"
     },
     "output_type": "display_data"
    }
   ],
   "source": [
    "groupCity = pd.DataFrame(df.groupby(df['city'])['success'].count().sort_values(ascending=False)[:10])\n",
    "\n",
    "#visualize results\n",
    "sns.barplot(y=groupCity.index, x=groupCity.values.ravel(), data=groupCity)\n",
    "plt.title(\"Top City Of Attacks\")"
   ]
  },
  {
   "cell_type": "markdown",
   "id": "fe8a9aef",
   "metadata": {},
   "source": [
    "### 9- What is a most method of attack and broad class of tactics used?"
   ]
  },
  {
   "cell_type": "code",
   "execution_count": 42,
   "id": "77b7e6a3",
   "metadata": {},
   "outputs": [
    {
     "data": {
      "image/png": "[encoded data removed]",
      "text/plain": [
       "<Figure size 432x288 with 1 Axes>"
      ]
     },
     "metadata": {
      "needs_background": "light"
     },
     "output_type": "display_data"
    }
   ],
   "source": [
    "tactics = pd.DataFrame(df['attack_type'].value_counts().sort_values(ascending =True))\n",
    "\n",
    "#visualize Resualts\n",
    "plt.barh(tactics.index, tactics.values.ravel())\n",
    "plt.title('Type of Attack') \n",
    "plt.xlabel(\"Counts\")\n",
    "plt.ylabel(\"Target\")\n",
    "plt.show()"
   ]
  },
  {
   "cell_type": "markdown",
   "id": "c554cea7",
   "metadata": {},
   "source": [
    "As we show There are more than 8 types of attack. the most popular is Bombing/Explosion"
   ]
  },
  {
   "cell_type": "markdown",
   "id": "8f69736d",
   "metadata": {},
   "source": [
    "### 9- How many victims of the attack?"
   ]
  },
  {
   "cell_type": "code",
   "execution_count": 43,
   "id": "8e51ed67",
   "metadata": {},
   "outputs": [
    {
     "data": {
      "text/plain": [
       "411868.0"
      ]
     },
     "execution_count": 43,
     "metadata": {},
     "output_type": "execute_result"
    }
   ],
   "source": [
    "df.nkill = pd.to_numeric(df.nkill)\n",
    "df.nkill.sum()"
   ]
  },
  {
   "cell_type": "markdown",
   "id": "6df9c2a9",
   "metadata": {},
   "source": [
    "The no. of victims of the attacks in the world 411868.0"
   ]
  },
  {
   "cell_type": "markdown",
   "id": "b8a7bf79",
   "metadata": {},
   "source": [
    "### 10- What is the country with the most casualties?"
   ]
  },
  {
   "cell_type": "code",
   "execution_count": 44,
   "id": "e95ea3cd",
   "metadata": {},
   "outputs": [
    {
     "data": {
      "text/plain": [
       "Text(0.5, 0, 'Count of casualties')"
      ]
     },
     "execution_count": 44,
     "metadata": {},
     "output_type": "execute_result"
    },
    {
     "data": {
      "image/png": "[encoded data removed]",
      "text/plain": [
       "<Figure size 432x288 with 1 Axes>"
      ]
     },
     "metadata": {
      "needs_background": "light"
     },
     "output_type": "display_data"
    }
   ],
   "source": [
    "groupCountry = pd.DataFrame(df.groupby(df['country'])['nkill'].count().sort_values(ascending=False)[:20])\n",
    "\n",
    "#visualize results\n",
    "sns.barplot(y=groupCountry.index, x=groupCountry.values.ravel(), data=groupCountry)\n",
    "plt.title(\"Top Country Has Large No. Of casualties \")\n",
    "plt.xlabel(\"Count of casualties\")"
   ]
  },
  {
   "cell_type": "code",
   "execution_count": 45,
   "id": "88b8e9f5",
   "metadata": {},
   "outputs": [
    {
     "name": "stdout",
     "output_type": "stream",
     "text": [
      "Iraq Percentage is 13.559284719661402% of all world\n",
      "Pakistan Percentage is 7.907931598152908% of all world\n",
      "Afghanistan Percentage is 7.006951362478054% of all world\n",
      "Sum of all perecentages is 28.474167680292368% of all world\n"
     ]
    }
   ],
   "source": [
    "#name column\n",
    "groupCountry.columns =['Country']\n",
    "\n",
    "#calculate the percentage top country\n",
    "IraqPercentage= (groupCountry['Country'][0] / df.nkill.count()) * 100\n",
    "\n",
    "PakistanPercentage = (groupCountry['Country'][1] / df.nkill.count()) * 100\n",
    "\n",
    "AfghanistanPercentage =(groupCountry['Country'][2] / df.nkill.count()) * 100\n",
    "\n",
    "#calculate sums of all the percentage \n",
    "SumOfPerecentage = IraqPercentage + PakistanPercentage + AfghanistanPercentage\n",
    "\n",
    "#print all percentage\n",
    "print(\"Iraq Percentage is {}% of all world\".format(IraqPercentage))\n",
    "print(\"Pakistan Percentage is {}% of all world\".format(PakistanPercentage))\n",
    "print(\"Afghanistan Percentage is {}% of all world\".format(AfghanistanPercentage))\n",
    "print(\"Sum of all perecentages is {}% of all world\".format(SumOfPerecentage))"
   ]
  },
  {
   "cell_type": "markdown",
   "id": "534a36ee",
   "metadata": {},
   "source": [
    "#### As we show Countries with the most casualties are Iraq, Pakistan, Afghanistan. They contain more than 29.4% of casualties of all world"
   ]
  },
  {
   "cell_type": "markdown",
   "id": "a49d6c18",
   "metadata": {},
   "source": [
    "### 11- What is a most Target of attacks?"
   ]
  },
  {
   "cell_type": "code",
   "execution_count": 55,
   "id": "fc4cf556",
   "metadata": {},
   "outputs": [
    {
     "data": {
      "image/png": "[encoded data removed]",
      "text/plain": [
       "<Figure size 432x288 with 1 Axes>"
      ]
     },
     "metadata": {
      "needs_background": "light"
     },
     "output_type": "display_data"
    }
   ],
   "source": [
    "targetsGroup = pd.DataFrame(df['targe_type'].value_counts().sort_values(ascending =True))\n",
    "\n",
    "#visualize results\n",
    "plt.barh(targetsGroup.index, targetsGroup.values.ravel(), color='red')\n",
    "plt.title('Target of Attack') \n",
    "plt.xlabel(\"Counts\")\n",
    "plt.ylabel(\"Target\")\n",
    "plt.show()"
   ]
  },
  {
   "cell_type": "markdown",
   "id": "0b3a3dcb",
   "metadata": {},
   "source": [
    "#### AS we show the most targets attacks occure on 'Private Citizens& Property', 'Military', 'Police' and 'Govemment(General)'"
   ]
  },
  {
   "cell_type": "markdown",
   "id": "87287363",
   "metadata": {},
   "source": [
    "### 12- What is the most Weapon Used in attacks?"
   ]
  },
  {
   "cell_type": "code",
   "execution_count": 57,
   "id": "4eac2e81",
   "metadata": {},
   "outputs": [
    {
     "data": {
      "image/png": "[encoded data removed]",
      "text/plain": [
       "<Figure size 432x288 with 1 Axes>"
      ]
     },
     "metadata": {
      "needs_background": "light"
     },
     "output_type": "display_data"
    }
   ],
   "source": [
    "weaponsGroup=pd.DataFrame(df['weapon_type'].value_counts().sort_values(ascending =True))\n",
    "\n",
    "#visualize results\n",
    "plt.barh(weaponsGroup.index, weaponsGroup.values.ravel(), color='red')\n",
    "plt.title('Weapon Used In Attacks') \n",
    "plt.xlabel(\"Counts\")\n",
    "plt.ylabel(\"Type Of Weapon\")\n",
    "plt.show()"
   ]
  },
  {
   "cell_type": "markdown",
   "id": "d4ff7444",
   "metadata": {},
   "source": [
    "#### AS we show the most targets attacks occur by 'Explosives', and Firearms"
   ]
  }
 ],
 "metadata": {
  "kernelspec": {
   "display_name": "Python 3",
   "language": "python",
   "name": "python3"
  },
  "language_info": {
   "codemirror_mode": {
    "name": "ipython",
    "version": 3
   },
   "file_extension": ".py",
   "mimetype": "text/x-python",
   "name": "python",
   "nbconvert_exporter": "python",
   "pygments_lexer": "ipython3",
   "version": "3.8.8"
  }
 },
 "nbformat": 4,
 "nbformat_minor": 5
}
